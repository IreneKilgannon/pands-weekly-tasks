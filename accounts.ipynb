{
 "cells": [
  {
   "cell_type": "markdown",
   "metadata": {},
   "source": [
    "# Accounts\n",
    "\n",
    "This is a program that reads in a 10 character account number\n",
    "Outputs the account number with only the last 4 digits showing and the first 6 replaced with X's"
   ]
  }
 ],
 "metadata": {
  "language_info": {
   "name": "python"
  }
 },
 "nbformat": 4,
 "nbformat_minor": 2
}
