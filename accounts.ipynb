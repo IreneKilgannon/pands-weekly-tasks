{
 "cells": [
  {
   "cell_type": "markdown",
   "metadata": {},
   "source": [
    "# Accounts\n",
    "\n",
    "***\n",
    "\n",
    "This is a program that reads in a 10 character account number.\n",
    "\n",
    "It outputs the account number with only the last 4 digits showing and the first 6 numbers replaced with X's."
   ]
  },
  {
   "cell_type": "markdown",
   "metadata": {},
   "source": [
    "## Work flow\n",
    "\n",
    "* Ask the user to input a 10 digit account number.\n",
    "* Check the length of the account number. If the length of the account number is not ten digits, print an error message.\n",
    "* Split the string, only need the last four digits [-4: ]\n",
    "* Concatenate 'XXXXXX' with the last four digits variable. "
   ]
  },
  {
   "cell_type": "markdown",
   "metadata": {},
   "source": [
    "Information on slicing. "
   ]
  },
  {
   "cell_type": "code",
   "execution_count": 6,
   "metadata": {},
   "outputs": [
    {
     "name": "stdout",
     "output_type": "stream",
     "text": [
      "XXXXXX7890\n"
     ]
    }
   ],
   "source": [
    "# Input \n",
    "account = str(input(\"Please enter a 10 digit account number: \")) \n",
    "\n",
    "# Check length of the account number\n",
    "if len(account) != 10:\n",
    "    print(\"Error, only 10 digits allowed.\")\n",
    "\n",
    "# The following will run if the length of the account number is equal to 10\n",
    "else:\n",
    "    # Slice the string to get the last four digits and give the last four digits a new variable name (last_four)\n",
    "    last_four = account[-4:]\n",
    "\n",
    "    # Concatenate 'XXXXXX' with the last_four variable\n",
    "    new_account = 'XXXXXX' + last_four\n",
    "\n",
    "    # Print the new_account number\n",
    "    print(new_account)"
   ]
  },
  {
   "cell_type": "markdown",
   "metadata": {},
   "source": [
    "## Modify the program to deal with a/c numbers of any length\n",
    "\n",
    "The above method will not work with a/c numbers of any length for two reasons. The first being that an account length of 10 digits was required and the second as we simply concatenated six X's with the last four digits.\n",
    "\n",
    "To modify the program: \n",
    "Slice the account number into two parts.\n",
    "* The first part of the string will be sliced as [ : -4]. This will give everything up to the last four digits. \n",
    "* The last four digits will be [-4 : ].\n",
    "\n",
    "Calculate the length of the slice and multiply the length by \"X\". This will give the required no of X's. I gave this the variable name of x_account. \n",
    "\n",
    "Concatenate the x_account with the slice of the last four digits. \n",
    "\n",
    "My assumption is that the account number is at least five digits, so that we can see at least one X along with the last four digits."
   ]
  },
  {
   "cell_type": "code",
   "execution_count": null,
   "metadata": {},
   "outputs": [],
   "source": [
    "# Input\n",
    "any_account = str(input(\"Please enter an account number: \"))\n",
    "\n",
    "# Checking the length\n",
    "if len(any_account) < 5:\n",
    "    print(\"At least 5 digits are required.\")\n",
    "\n",
    "else:\n",
    "    # Slice the string into two parts. The first part of the string up to and not inclulding the last 4 digits.\n",
    "    first_part_any_account = any_account[:-4]\n",
    "\n",
    "    # Last four digits of the any_account string. \n",
    "    last_four2 = any_account[-4:]\n",
    "\n",
    "    # Get the length of the first part of the account number. Multiply the length by \"X\".\n",
    "    # This will return the correct number of X's for the length of first part of the account.\n",
    "    x_account = (len(first_part_any_account)) * \"X\"\n",
    "\n",
    "# Print the result of the concatenatation x_account with the last four digits\n",
    "    print(x_account + last_four2)"
   ]
  },
  {
   "cell_type": "code",
   "execution_count": 8,
   "metadata": {},
   "outputs": [
    {
     "name": "stdout",
     "output_type": "stream",
     "text": [
      "XX12\n"
     ]
    }
   ],
   "source": [
    "# The above could be written more concisely as:\n",
    "\n",
    "any_account = str(input(\"Please enter an account number: \"))\n",
    "\n",
    "if len(any_account) < 5:\n",
    "    print(\"At least 5 digits are required.\")\n",
    "else:\n",
    "    print((len(any_account[:-4]) * \"X\") + any_account[:-4])"
   ]
  },
  {
   "cell_type": "markdown",
   "metadata": {},
   "source": [
    "## References\n",
    "\n",
    "https://realpython.com/python-strings/ section on modifying strings accessed 06/02/2024\n"
   ]
  },
  {
   "cell_type": "markdown",
   "metadata": {},
   "source": [
    "# End \n",
    "***"
   ]
  }
 ],
 "metadata": {
  "kernelspec": {
   "display_name": "base",
   "language": "python",
   "name": "python3"
  },
  "language_info": {
   "codemirror_mode": {
    "name": "ipython",
    "version": 3
   },
   "file_extension": ".py",
   "mimetype": "text/x-python",
   "name": "python",
   "nbconvert_exporter": "python",
   "pygments_lexer": "ipython3",
   "version": "3.11.5"
  }
 },
 "nbformat": 4,
 "nbformat_minor": 2
}
