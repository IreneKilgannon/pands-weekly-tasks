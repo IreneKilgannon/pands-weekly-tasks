{
 "cells": [
  {
   "cell_type": "markdown",
   "metadata": {},
   "source": [
    "# Accounts.py\n",
    "\n",
    "***\n",
    "\n",
    "This is a program that reads in a 10 character bank account number. Bank accounts numbers are stored as 10 character strings.\n",
    "\n",
    "It outputs the account number with the first 6 digits replaced with X's and displays last 4 digits.\n",
    "\n",
    "Author: Irene Kilgannon"
   ]
  },
  {
   "cell_type": "markdown",
   "metadata": {},
   "source": [
    "## Work flow\n",
    "\n",
    "* Ask the user to input a 10 digit account number.\n",
    "* Check the length of the account number. If the length of the account number is not ten digits, print an error message.\n",
    "* Split the string, only need the last four digits [-4: ]\n",
    "* Concatenate 'XXXXXX' with the last four digits variable. "
   ]
  },
  {
   "cell_type": "code",
   "execution_count": 23,
   "metadata": {},
   "outputs": [
    {
     "ename": "KeyboardInterrupt",
     "evalue": "Interrupted by user",
     "output_type": "error",
     "traceback": [
      "\u001b[1;31m---------------------------------------------------------------------------\u001b[0m",
      "\u001b[1;31mKeyboardInterrupt\u001b[0m                         Traceback (most recent call last)",
      "Cell \u001b[1;32mIn[23], line 2\u001b[0m\n\u001b[0;32m      1\u001b[0m \u001b[38;5;66;03m# Input a 10 character number as a string. \u001b[39;00m\n\u001b[1;32m----> 2\u001b[0m account \u001b[38;5;241m=\u001b[39m \u001b[38;5;28mstr\u001b[39m(\u001b[38;5;28minput\u001b[39m(\u001b[38;5;124m\"\u001b[39m\u001b[38;5;124mPlease enter a 10 digit account number: \u001b[39m\u001b[38;5;124m\"\u001b[39m)) \n\u001b[0;32m      4\u001b[0m \u001b[38;5;66;03m# Check length of the account number.\u001b[39;00m\n\u001b[0;32m      5\u001b[0m \u001b[38;5;28;01mif\u001b[39;00m \u001b[38;5;28mlen\u001b[39m(account) \u001b[38;5;241m!=\u001b[39m \u001b[38;5;241m10\u001b[39m:\n",
      "File \u001b[1;32mc:\\Users\\Martin\\anacondaik\\Lib\\site-packages\\ipykernel\\kernelbase.py:1202\u001b[0m, in \u001b[0;36mKernel.raw_input\u001b[1;34m(self, prompt)\u001b[0m\n\u001b[0;32m   1200\u001b[0m     msg \u001b[38;5;241m=\u001b[39m \u001b[38;5;124m\"\u001b[39m\u001b[38;5;124mraw_input was called, but this frontend does not support input requests.\u001b[39m\u001b[38;5;124m\"\u001b[39m\n\u001b[0;32m   1201\u001b[0m     \u001b[38;5;28;01mraise\u001b[39;00m StdinNotImplementedError(msg)\n\u001b[1;32m-> 1202\u001b[0m \u001b[38;5;28;01mreturn\u001b[39;00m \u001b[38;5;28mself\u001b[39m\u001b[38;5;241m.\u001b[39m_input_request(\n\u001b[0;32m   1203\u001b[0m     \u001b[38;5;28mstr\u001b[39m(prompt),\n\u001b[0;32m   1204\u001b[0m     \u001b[38;5;28mself\u001b[39m\u001b[38;5;241m.\u001b[39m_parent_ident[\u001b[38;5;124m\"\u001b[39m\u001b[38;5;124mshell\u001b[39m\u001b[38;5;124m\"\u001b[39m],\n\u001b[0;32m   1205\u001b[0m     \u001b[38;5;28mself\u001b[39m\u001b[38;5;241m.\u001b[39mget_parent(\u001b[38;5;124m\"\u001b[39m\u001b[38;5;124mshell\u001b[39m\u001b[38;5;124m\"\u001b[39m),\n\u001b[0;32m   1206\u001b[0m     password\u001b[38;5;241m=\u001b[39m\u001b[38;5;28;01mFalse\u001b[39;00m,\n\u001b[0;32m   1207\u001b[0m )\n",
      "File \u001b[1;32mc:\\Users\\Martin\\anacondaik\\Lib\\site-packages\\ipykernel\\kernelbase.py:1245\u001b[0m, in \u001b[0;36mKernel._input_request\u001b[1;34m(self, prompt, ident, parent, password)\u001b[0m\n\u001b[0;32m   1242\u001b[0m \u001b[38;5;28;01mexcept\u001b[39;00m \u001b[38;5;167;01mKeyboardInterrupt\u001b[39;00m:\n\u001b[0;32m   1243\u001b[0m     \u001b[38;5;66;03m# re-raise KeyboardInterrupt, to truncate traceback\u001b[39;00m\n\u001b[0;32m   1244\u001b[0m     msg \u001b[38;5;241m=\u001b[39m \u001b[38;5;124m\"\u001b[39m\u001b[38;5;124mInterrupted by user\u001b[39m\u001b[38;5;124m\"\u001b[39m\n\u001b[1;32m-> 1245\u001b[0m     \u001b[38;5;28;01mraise\u001b[39;00m \u001b[38;5;167;01mKeyboardInterrupt\u001b[39;00m(msg) \u001b[38;5;28;01mfrom\u001b[39;00m \u001b[38;5;28;01mNone\u001b[39;00m\n\u001b[0;32m   1246\u001b[0m \u001b[38;5;28;01mexcept\u001b[39;00m \u001b[38;5;167;01mException\u001b[39;00m:\n\u001b[0;32m   1247\u001b[0m     \u001b[38;5;28mself\u001b[39m\u001b[38;5;241m.\u001b[39mlog\u001b[38;5;241m.\u001b[39mwarning(\u001b[38;5;124m\"\u001b[39m\u001b[38;5;124mInvalid Message:\u001b[39m\u001b[38;5;124m\"\u001b[39m, exc_info\u001b[38;5;241m=\u001b[39m\u001b[38;5;28;01mTrue\u001b[39;00m)\n",
      "\u001b[1;31mKeyboardInterrupt\u001b[0m: Interrupted by user"
     ]
    }
   ],
   "source": [
    "# Input a 10 character number as a string. \n",
    "account = str(input(\"Please enter a 10 digit account number: \")) \n",
    "\n",
    "# Check length of the account number.\n",
    "if len(account) != 10:\n",
    "    print(\"Error, only 10 digits allowed.\")\n",
    "\n",
    "# The following will run if the length of the account number is equal to 10.\n",
    "else:\n",
    "    # Slice the string to get the last four digits and give the last four digits a new variable name (last_four).\n",
    "    last_four = account[-4:]\n",
    "\n",
    "    # Concatenate 'XXXXXX' with the last_four variable.\n",
    "    new_account = 'XXXXXX' + last_four\n",
    "\n",
    "    # Print the new_account number, with the first 6 characters concealed as Xs.\n",
    "    print(new_account)"
   ]
  },
  {
   "cell_type": "markdown",
   "metadata": {},
   "source": [
    "__Code update.__\n",
    "\n",
    "The syntax for the string replace() method is:\n",
    "\n",
    "    string.replace(oldvalue, newvalue, count).\n",
    "\n",
    "The old value is required and in this instance is the account number up to the last 4 digits.\n",
    "\n",
    "The new value is also a required argument and is the length of the account number up to the last 4 digits multiplied by \"X\".\n",
    "\n",
    "Count is an optional argument. It is a number specifying how many occurrences of the old value you want replaced. The default is all occurrences."
   ]
  },
  {
   "cell_type": "code",
   "execution_count": null,
   "metadata": {},
   "outputs": [],
   "source": [
    "# Input a 10 character number as a string.\n",
    "account = str(input(\"Please enter a 10 digit account number: \")) \n",
    "\n",
    "# Check length of the account number\n",
    "if len(account) != 10:\n",
    "    print(\"Error, only 10 digits allowed.\")\n",
    "\n",
    "# The following will run if the length of the account number is equal to 10\n",
    "else:\n",
    "    # String.replace(old value, new value) \n",
    "    # Old value is the string up to the last four digits.\n",
    "    # New value is the length of the string multiplied by \"X\"\n",
    "    hidden_account = account.replace(account[:-4], len(account[:-4]) * \"X\")\n",
    "\n",
    "    # Print the new_account number with the first 6 numbers replaced with X's.\n",
    "    print(hidden_account)"
   ]
  },
  {
   "cell_type": "markdown",
   "metadata": {},
   "source": [
    "## Modify the program to deal with a/c numbers of any length\n",
    "\n",
    "The first method will not work with a/c numbers of any length for two reasons. The first being that an account length of 10 digits was specified and the second as we simply concatenated six X's with the last four digits.\n",
    "\n",
    "To modify the program: \n",
    "Slice the account number into two parts.\n",
    "* The first part of the string will be sliced as [ : -4]. This will give everything up to the last four digits. \n",
    "* The last four digits will be [-4 : ].\n",
    "\n",
    "Calculate the length of the slice and multiply the length by \"X\". This will give the required no of X's. I gave this the variable name of x_account. \n",
    "\n",
    "Concatenate x_account with the slice of the last four digits. \n",
    "\n",
    "My assumption is that the account number is at least five digits, so that we can see at least one X along with the last four digits."
   ]
  },
  {
   "cell_type": "code",
   "execution_count": null,
   "metadata": {},
   "outputs": [],
   "source": [
    "# Input\n",
    "any_account_length = str(input(\"Please enter an account number: \"))\n",
    "\n",
    "# Checking the length\n",
    "if len(any_account_length) < 5:\n",
    "    print(\"At least 5 digits are required.\")\n",
    "\n",
    "else:\n",
    "    # Slice the string into two parts. The first part of the string up to and not including the last 4 digits.\n",
    "    first_part = any_account_length[:-4]\n",
    "\n",
    "    # Last four digits of the any_account string. \n",
    "    last_four2 = any_account_length[-4:]\n",
    "\n",
    "    # Get the length of the first part of the account number. Multiply the length by \"X\".\n",
    "    # This will return the correct number of X's for the length of first part of the account.\n",
    "    x_account = (len(first_part)) * \"X\"\n",
    "\n",
    "# Print the result of the concatenatation x_account with the last four digits\n",
    "    print(x_account + last_four2)"
   ]
  },
  {
   "cell_type": "code",
   "execution_count": null,
   "metadata": {},
   "outputs": [],
   "source": [
    "# The above could be written more concisely as:\n",
    "any_account = str(input(\"Please enter an account number: \"))\n",
    "\n",
    "if len(any_account) < 5:\n",
    "    print(\"At least 5 digits are required.\")\n",
    "else:\n",
    "    print((len(any_account[:-4]) * \"X\") + any_account[-4:])"
   ]
  },
  {
   "cell_type": "markdown",
   "metadata": {},
   "source": [
    "Written using the replace() method.\n",
    "Assumption is the account number is at least five digits."
   ]
  },
  {
   "cell_type": "code",
   "execution_count": null,
   "metadata": {},
   "outputs": [],
   "source": [
    "any_account = str(input(\"Please enter an account number: \"))\n",
    "\n",
    "if len(any_account) < 5:\n",
    "    print(\"At least 5 digits are required.\")\n",
    "else:\n",
    "    hidden_account = any_account.replace(any_account[:-4], len(any_account[:-4]) * \"X\")\n",
    "    print(hidden_account)"
   ]
  },
  {
   "cell_type": "markdown",
   "metadata": {},
   "source": [
    "## References\n",
    "\n",
    "Real python, [Python strings](https://realpython.com/python-strings/). The sections on string indexing, string slicing and modifying strings were particularily useful.\n",
    "\n",
    "w3 schools, [Python string concatenation](https://www.w3schools.com/python/gloss_python_string_concatenation.asp)\n",
    "\n",
    "w3 schools, [Python string replace() method](https://www.w3schools.com/python/ref_string_replace.asp)\n",
    "\n",
    "Real python, [How to replace a string in python](https://realpython.com/replace-string-python)"
   ]
  },
  {
   "cell_type": "markdown",
   "metadata": {},
   "source": [
    "# End \n",
    "***"
   ]
  }
 ],
 "metadata": {
  "kernelspec": {
   "display_name": "base",
   "language": "python",
   "name": "python3"
  },
  "language_info": {
   "codemirror_mode": {
    "name": "ipython",
    "version": 3
   },
   "file_extension": ".py",
   "mimetype": "text/x-python",
   "name": "python",
   "nbconvert_exporter": "python",
   "pygments_lexer": "ipython3",
   "version": "3.11.5"
  }
 },
 "nbformat": 4,
 "nbformat_minor": 2
}
