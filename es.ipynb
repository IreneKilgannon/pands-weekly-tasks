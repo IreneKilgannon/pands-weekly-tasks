{
 "cells": [
  {
   "cell_type": "markdown",
   "metadata": {},
   "source": [
    "# e's.py\n",
    "***"
   ]
  },
  {
   "cell_type": "markdown",
   "metadata": {},
   "source": [
    "## The Task\n",
    "\n",
    "* Write a program that reads in a text file\n",
    "* Outputs the number of e's it contains\n",
    "* The program should take the filename from an argument on the command line\n",
    "* What assumptions should I make? Ignore any E's. "
   ]
  },
  {
   "cell_type": "markdown",
   "metadata": {},
   "source": [
    "## Research\n",
    "\n",
    "Need to create the text file\n",
    "\n",
    "Next read in the text file\n",
    "\n",
    "Create a function to count the e's \n",
    "\n",
    "Output the number of e's\n",
    "\n",
    "\n",
    "What does take the filename from an argument in the command line mean?\n",
    "\n",
    "[Command Line] https://cs.stanford.edu/people/nick/py/python-command.html#:~:text=The%20command%20line%20is%20a,called%20%22command%20line%20arguments%22.\n",
    "\n",
    "Command line arguments are extra words after the file name of the program, extra information for the program to use. \n",
    "\n",
    "https://moez-62905.medium.com/the-ultimate-guide-to-command-line-arguments-in-python-scripts-61c49c90e0b3\n",
    "\n"
   ]
  },
  {
   "cell_type": "markdown",
   "metadata": {},
   "source": [
    "### How would I count the occurrences of a specific character in a string?\n",
    "\n",
    "counting = input(\"Enter a string: \")\n",
    "\n",
    "count = 0\n",
    "\n",
    "for item in counting:\n",
    "    if item == 'e':\n",
    "        count +=1\n",
    "print(count)"
   ]
  },
  {
   "cell_type": "markdown",
   "metadata": {},
   "source": [
    "Other methods to count \n",
    "* use count()\n",
    "* "
   ]
  },
  {
   "cell_type": "code",
   "execution_count": 3,
   "metadata": {},
   "outputs": [],
   "source": [
    "# Make a counting function\n",
    "\n",
    "def counting(e):\n",
    "    count = 0\n",
    "    for item in data:\n",
    "        if item == 'e':\n",
    "            count +=1\n",
    "    return count"
   ]
  },
  {
   "cell_type": "markdown",
   "metadata": {},
   "source": [
    "### Read in a file\n",
    "\n",
    "Link to moby dick.txt. Save the url as a text file. \n",
    "\n",
    "https://courses.cs.washington.edu/courses/cse390c/22sp/lectures/moby.txt\n"
   ]
  },
  {
   "cell_type": "code",
   "execution_count": 4,
   "metadata": {},
   "outputs": [
    {
     "name": "stdout",
     "output_type": "stream",
     "text": [
      "114478\n"
     ]
    }
   ],
   "source": [
    "with open(\"moby-dick.txt\", 'r') as f:\n",
    "    data = f.read()\n",
    "    print(counting(data))"
   ]
  },
  {
   "cell_type": "markdown",
   "metadata": {},
   "source": [
    "### Problem  \n",
    "\n",
    "The above code will count the e's but it is not the requested input. The txt filename should be in the command line.\n",
    "\n",
    "$ python es.py moby-dick.txt \n",
    "\n",
    "How do I do that?\n",
    "\n"
   ]
  },
  {
   "cell_type": "markdown",
   "metadata": {},
   "source": [
    "### Dealing with Errors.\n",
    "\n",
    "What possible errors could I have?\n",
    "*   No argument given\n",
    "*   Filename does not exist\n",
    "*   File is not a text file"
   ]
  }
 ],
 "metadata": {
  "kernelspec": {
   "display_name": "base",
   "language": "python",
   "name": "python3"
  },
  "language_info": {
   "codemirror_mode": {
    "name": "ipython",
    "version": 3
   },
   "file_extension": ".py",
   "mimetype": "text/x-python",
   "name": "python",
   "nbconvert_exporter": "python",
   "pygments_lexer": "ipython3",
   "version": "3.11.5"
  }
 },
 "nbformat": 4,
 "nbformat_minor": 2
}
