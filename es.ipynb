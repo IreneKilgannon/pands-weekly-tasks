{
 "cells": [
  {
   "cell_type": "markdown",
   "metadata": {},
   "source": [
    "# e's.py\n",
    "***\n",
    "\n",
    "Author: Irene Kilgannon"
   ]
  },
  {
   "cell_type": "markdown",
   "metadata": {},
   "source": [
    "## The Task\n",
    "\n",
    "* Write a program that reads in a text file.\n",
    "* Outputs the number of e's it contains.\n",
    "* The program should take the filename from an argument on the command line.\n",
    "\n",
    "To count all the e's any capital E's need to be changed to lower e's. Use [lower() method](https://www.w3schools.com/python/ref_string_lower.asp)."
   ]
  },
  {
   "cell_type": "code",
   "execution_count": null,
   "metadata": {},
   "outputs": [],
   "source": [
    "# Counting the e's in a string input.\n",
    "\n",
    "# Input a string\n",
    "counting = input(\"Enter a string: \")\n",
    "\n",
    "count = 0\n",
    "\n",
    "for item in counting:\n",
    "    if item == 'e':\n",
    "        count += 1\n",
    "print(count)"
   ]
  },
  {
   "cell_type": "markdown",
   "metadata": {},
   "source": [
    "\n",
    "I sourced the Moby Dick text from the following URL [moby-dick.txt](https://courses.cs.washington.edu/courses/cse390c/22sp/lectures/moby.txt). I originally saved the file in the standard manner using 'Save as' but afterwards realised there must be a way to do this programmatically. \n",
    "\n",
    "I followed this article on realpython.com to learn [how to download files with URLs from python](https://realpython.com/python-download-file-from-url).\n",
    "\n",
    "Urllib is a standard python library for accessing websites and downloading data. Urllib.request is a module which opens and reads URLs. "
   ]
  },
  {
   "cell_type": "code",
   "execution_count": null,
   "metadata": {},
   "outputs": [],
   "source": [
    "from urllib.request import urlretrieve\n",
    "\n",
    "url = (\n",
    "    'https://courses.cs.washington.edu/courses/cse390c/22sp/lectures/moby.txt'\n",
    "    )\n",
    "\n",
    "filename = 'moby-dick.txt'\n",
    "\n",
    "urlretrieve(url, filename)"
   ]
  },
  {
   "cell_type": "markdown",
   "metadata": {},
   "source": [
    "The es.py file wouldn't run correctly when I included the above code so I left it out of that file. I have included this infomation here to show how it can be done."
   ]
  },
  {
   "cell_type": "code",
   "execution_count": null,
   "metadata": {},
   "outputs": [],
   "source": [
    "def counting(e):\n",
    "    '''A function that will count all e's'''\n",
    "    count = 0\n",
    "    for item in data:\n",
    "      if item == 'e' or item == 'E':\n",
    "         count +=1\n",
    "    return count\n",
    "\n",
    "# Reads in a file. \n",
    "with open(\"moby-dick.txt\", 'r') as f:\n",
    "    data = f.read()\n",
    "    # Call the counting function on the file and print the result.\n",
    "    print(counting(data))"
   ]
  },
  {
   "cell_type": "markdown",
   "metadata": {},
   "source": [
    "Use the built in [count()](https://www.w3schools.com/python/ref_string_count.asp) method for strings and lists. For a string it returns the number of occurrances of a specified element or substring. "
   ]
  },
  {
   "cell_type": "code",
   "execution_count": null,
   "metadata": {},
   "outputs": [],
   "source": [
    "# Use the built in count() function. \n",
    "\n",
    "# This code calculates the number of small e's and capital E's.\n",
    "with open(\"moby-dick.txt\", 'r') as f:\n",
    "    print(f.read().lower().count('e'))"
   ]
  },
  {
   "cell_type": "markdown",
   "metadata": {},
   "source": [
    "### Problem  \n",
    "\n",
    "The above code will count the e's but it is not the requested input. A .txt file should be entered in the [command line](https://cs.stanford.edu/people/nick/py/python-command.html#:~:text=The%20command%20line%20is%20a,called%20%22command%20line%20arguments%22).\n",
    "\n",
    "    $ python es.py moby-dick.txt \n",
    "\n",
    "There are three ways in which to [parse command line arguments](https://www.datacamp.com/tutorial/argument-parsing-in-python):\n",
    "* sys.argv\n",
    "* getopt\n",
    "* argparse\n",
    "\n",
    "Sys.argv is considered the simpliest method. The sys module must first be imported. According to [geeksforgeeks.org](https://www.geeksforgeeks.org/python-sys-module/) \"the sys module in Python provides various functions and variables that are used to manipulate different parts of the Python runtime environment. It allows operating on the interpreter as it provides access to the variables and functions that interact strongly with the interpreter\". \n",
    "\n",
    "[Sys.argv](https://www.youtube.com/watch?v=ZQ9JO0e9468) generates a list of all the arguments that were supplied to the command line. The program name is always at sys.argv[0] and it will be followed by the other inputs into the command line. The file that will be read in is at sys.argv[1]."
   ]
  },
  {
   "cell_type": "markdown",
   "metadata": {},
   "source": [
    "### Dealing with Errors.\n",
    "\n",
    "*   No argument given - check the length of sys.argv. Length must be equal to 2 for the program to execute. Print an error if sys.argv != 2. After watching lecture 9 on dealing with errors, I realised this section of my program needed to be improved to use \"except IndexError\". The problem with this is there was no error message when no argument was in the command line. It worked when more than one argument in the command line. \n",
    "*   Filename does not exist. Use [Try and Except](https://www.youtube.com/watch?v=LpZmZs2_BC4&list=PLZPZq0r_RZOOkUQbat8LyQii36cJf2SWT&index=40).\n",
    "*   File is not a text file. Use [os.path.splitext()](https://www.geeksforgeeks.org/python-os-path-splitext-method/) to split at the last dot on the right. Import OS. The OS module in python provides functions for interacting with the operating system. \n",
    "\n",
    "The file does not run correctly from the jupyter notebook. It does run correctly from the es.py file which is file required for this weekly task."
   ]
  },
  {
   "cell_type": "markdown",
   "metadata": {},
   "source": [
    "``` python\n",
    "import sys\n",
    "import os\n",
    "\n",
    "# Check the length of sys.argv to ensure the correct number of arguments are in the command line.\n",
    "if len(sys.argv) !=2:\n",
    "    sys.exit((f\"Error: One file is required, {len(sys.argv)-1} were given.\"))\n",
    "\n",
    "# For readability assign a variable name to the file at sys.argv[1].\n",
    "file_name = sys.argv[1]\n",
    "\n",
    "# Split the file by the last '.' on the right.\n",
    "root, ext = os.path.splitext(file_name)\n",
    "\n",
    "# Check the file ending is .txt. If not return an error message.\n",
    "if ext != '.txt':\n",
    "    sys.exit(f\"Error: File format must be .txt. File format given was {ext}.\")\n",
    "\n",
    "# Open the file to read it.\n",
    "try:\n",
    "    with open(file_name, 'r') as f:\n",
    "        # Count all the e's after converting them to lower case with lower()\n",
    "        e_count = f.read().lower().count(\"e\")\n",
    "        print(e_count)\n",
    "\n",
    "# Print an exception if the file was not found.\n",
    "except FileNotFoundError:\n",
    "    print(\"That file was not found.\")\n",
    "```"
   ]
  },
  {
   "cell_type": "markdown",
   "metadata": {},
   "source": [
    "## References\n",
    "\n",
    "Command line arguments with emphasis on argparse. [Ultimate guide to Command Line Arguments in Python scripts](https://moez-62905.medium.com/the-ultimate-guide-to-command-line-arguments-in-python-scripts-61c49c90e0b3) or https://archive.ph/scZzt\n",
    "\n",
    "[Python read a file](https://www.youtube.com/watch?v=LpZmZs2_BC4&list=PLZPZq0r_RZOOkUQbat8LyQii36cJf2SWT&index=39)\n",
    "\n",
    "[Python try and except](https://www.w3schools.com/python/python_try_except.asp)\n",
    "\n",
    "[OS Module in Python with Examples](https://www.geeksforgeeks.org/os-module-python-examples/)"
   ]
  },
  {
   "cell_type": "markdown",
   "metadata": {},
   "source": [
    "***\n",
    "# End"
   ]
  }
 ],
 "metadata": {
  "kernelspec": {
   "display_name": "base",
   "language": "python",
   "name": "python3"
  },
  "language_info": {
   "codemirror_mode": {
    "name": "ipython",
    "version": 3
   },
   "file_extension": ".py",
   "mimetype": "text/x-python",
   "name": "python",
   "nbconvert_exporter": "python",
   "pygments_lexer": "ipython3",
   "version": "3.11.5"
  }
 },
 "nbformat": 4,
 "nbformat_minor": 2
}
