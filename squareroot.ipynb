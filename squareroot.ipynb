{
 "cells": [
  {
   "cell_type": "markdown",
   "metadata": {},
   "source": [
    "### Calculating Square Roots using the Newton Method"
   ]
  },
  {
   "cell_type": "markdown",
   "metadata": {},
   "source": [
    "What is square root?\n",
    "\n",
    "A number, n multiplied by itself is said to be squared. \n",
    "\n",
    "$$x = n^2$$\n",
    "\n",
    "$$ x = \\sqrt{n}$$\n",
    "\n",
    "In python, the square root of a number can be calculated in two different ways. The first of these uses the built in math.sqrt() method in the math module. sqrt() can calculated the square root of both integers and floating point numbers. The second "
   ]
  },
  {
   "cell_type": "code",
   "execution_count": 15,
   "metadata": {},
   "outputs": [
    {
     "name": "stdout",
     "output_type": "stream",
     "text": [
      "3.0\n"
     ]
    }
   ],
   "source": [
    "print(9 ** 0.5)"
   ]
  },
  {
   "cell_type": "code",
   "execution_count": 16,
   "metadata": {},
   "outputs": [
    {
     "name": "stdout",
     "output_type": "stream",
     "text": [
      "3.0\n"
     ]
    }
   ],
   "source": [
    "# Calculate the square root of a number using the math.sqrt() method\n",
    "\n",
    "import math\n",
    "\n",
    "# Input the required number as an argument in the sqrt()\n",
    "\n",
    "print(math.sqrt(9))\n",
    "\n",
    "# The answer will be returned as a floating point number.\n"
   ]
  },
  {
   "cell_type": "code",
   "execution_count": null,
   "metadata": {},
   "outputs": [],
   "source": []
  },
  {
   "cell_type": "code",
   "execution_count": null,
   "metadata": {},
   "outputs": [],
   "source": []
  },
  {
   "cell_type": "markdown",
   "metadata": {},
   "source": [
    "Research Newton method \n",
    "\n",
    "Newton- Raphson Equation\n",
    "\n",
    "\n",
    "\n",
    "$$x_{n+1} = x_{n} - \\frac{f(x_{n})}{f'(x_{n})}$$\n",
    "\n",
    "The Newton-Raphson method \n",
    "\n",
    "\n",
    "Newton's equation to calculate the square root:\n",
    "$$x_{n+1} = \\frac{1}{2}(x_{n} + \\frac{a}{x_{n}})$$\n",
    "\n",
    "This equation is a fast way of calculating approximate square roots. The first step is to guess an approximate value for the square root and then to iterate through the equation. Each time we iterate through the equation we will get closer to the result.\n",
    "\n",
    "The easiest way to explain is probably to work through an example. Calculate square root of 5. Guess of 2.5, xn\n",
    "\n",
    "insert table\n",
    "$$x_{1} = \\frac{1}{2}(2.5 + \\frac{5}{2.5})$$\n",
    "$$x_{1} = 2.25$$\n",
    "\n",
    "$$x_{2} = \\frac{1}{2}(2.25 + \\frac{5}{2.25})$$\n",
    "$$x_{2} = 2.2361111111$$\n",
    "\n",
    "$$x_{3} = \\frac{1}{2}(2.236 + \\frac{5}{2.2361})$$\n",
    "$$x_{3} = 2.2360679778$$ "
   ]
  },
  {
   "cell_type": "code",
   "execution_count": null,
   "metadata": {},
   "outputs": [],
   "source": []
  },
  {
   "cell_type": "code",
   "execution_count": null,
   "metadata": {},
   "outputs": [],
   "source": []
  },
  {
   "cell_type": "markdown",
   "metadata": {},
   "source": []
  },
  {
   "cell_type": "markdown",
   "metadata": {},
   "source": [
    "References:\n",
    "https://realpython.com/python-square-root-function/\n",
    "\n",
    "https://math.mit.edu/~stevenj/18.335/newton-sqrt.pdf\n",
    "\n",
    "https://towardsdatascience.com/write-markdown-latex-in-the-jupyter-notebook-10985edb91fd  Writing mathematical formulae in markdown\n",
    "\n",
    "Dubious insights, Worlds Fastest Square Root: Newton's Method https://www.youtube.com/watch?v=FpOEx6zFf1o"
   ]
  }
 ],
 "metadata": {
  "kernelspec": {
   "display_name": "base",
   "language": "python",
   "name": "python3"
  },
  "language_info": {
   "codemirror_mode": {
    "name": "ipython",
    "version": 3
   },
   "file_extension": ".py",
   "mimetype": "text/x-python",
   "name": "python",
   "nbconvert_exporter": "python",
   "pygments_lexer": "ipython3",
   "version": "3.11.5"
  }
 },
 "nbformat": 4,
 "nbformat_minor": 2
}
