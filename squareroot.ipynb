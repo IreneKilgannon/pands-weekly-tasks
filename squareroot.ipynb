{
 "cells": [
  {
   "cell_type": "markdown",
   "metadata": {},
   "source": [
    "# Squareroot.py \n",
    "***\n",
    "\n",
    "Calculating Square Roots using the Newton Method\n",
    "\n",
    "Author: Irene Kilgannon"
   ]
  },
  {
   "cell_type": "markdown",
   "metadata": {},
   "source": [
    "__What is a square root?__\n",
    "\n",
    "A positive number, x when multiplied by itself is said to be squared. \n",
    "\n",
    "$$ x^2 = n $$\n",
    "\n",
    "The inverse of a squared number is its square root. \n",
    "\n",
    "$$ x = \\sqrt{n}$$\n",
    "\n",
    "\n",
    "\n",
    "In python, the square root of a number can be calculated in two different ways. \n",
    "\n",
    "The first of these is simply the number raised to the power of 0.5. The second method uses the built in math.sqrt() method in the math module. sqrt() can calculate the square root of both integers and floating point numbers. "
   ]
  },
  {
   "cell_type": "code",
   "execution_count": null,
   "metadata": {},
   "outputs": [],
   "source": [
    "# Number raised to the power of 0.5.\n",
    "print(9 ** 0.5)"
   ]
  },
  {
   "cell_type": "code",
   "execution_count": null,
   "metadata": {},
   "outputs": [],
   "source": [
    "# Calculate the square root of a number using the math.sqrt() method.\n",
    "import math\n",
    "\n",
    "# Input the required number as an argument in the sqrt() function.\n",
    "print(math.sqrt(9))\n",
    "\n",
    "# The answer will be returned as a floating point number."
   ]
  },
  {
   "cell_type": "markdown",
   "metadata": {},
   "source": [
    "## The Newton method for estimating square roots.\n",
    "\n",
    "This weeks weekly task is to calculate the approximate square root of a number by NOT using any of the built in methods in python. There are a number of ways to do this one of which is uses the Newton equation. The Newton equation is derived from the Newton-Raphson equation. \n",
    "\n",
    "\n",
    "\n",
    "\n",
    "Newton-Raphson Equation\n",
    "\n",
    "$$x_{n+1} = x_{n} - \\frac{f(x_{n})}{f'(x_{n})}$$\n",
    "\n",
    "The Newton-Raphson equation uses the mathematical equation of a line to calculate the value for the square root. [Newton-Raphson Method](https://pythonnumericalmethods.berkeley.edu/notebooks/chapter19.04-Newton-Raphson-Method.html#:~:text=The%20Newton%2DRaphson%20Method%20of,)\n",
    "\n",
    "\n",
    "\n",
    "Newton's equation to calculate the square root is more straight forward:\n",
    "$$x_{n+1} = \\frac{1}{2}(x_{n} + \\frac{a}{x_{n}})$$  \n",
    "\n",
    "a = number whose square root we want\n",
    "\n",
    "x<sub>n</sub> = estimate value of the square root\n",
    "\n",
    "\n",
    "\n",
    "This equation is a fast way of calculating approximate square roots. The first step is to guess an approximate value for the square root and then to iterate through the equation. Each time we iterate through the equation we will get closer to the result to the square root.\n",
    "\n",
    "For example to calculate square root of 5, a = 5 and x<sub>n</sub> = 2.5\n",
    "\n",
    "$$x_{1} = \\frac{1}{2}(2.5 + \\frac{5}{2.5}) = 2.25$$\n",
    "\n",
    "The value from this calculation is now the new x<sub>n</sub> and the process is repeated until the outcomes are approximately the same. \n",
    "\n",
    "$$x_{2} = \\frac{1}{2}(2.25 + \\frac{5}{2.25}) = 2.2361111111$$"
   ]
  },
  {
   "cell_type": "markdown",
   "metadata": {},
   "source": [
    "### The Task\n",
    "\n",
    "1. Ask the user to input a positive number. The input should be a floating-point number.\n",
    "2. Define a function to calculate the square root. \n",
    "3. The function will repeat the iterations until the differences between the results are < 0.00000001.\n",
    "4. Output: \"The square root of {square_root} is approx. {}.\n",
    "\n",
    "\n",
    "__Defining the Function__\n",
    "\n",
    "* Generate an empty list called estimates. \n",
    "* The first item appended to the list is an initial guess, approximation, which is the input/2.\n",
    "* For each item in the list, the newton equation is carried out and the result appended to the list.\n",
    "* When the difference between the last two items in the list is less than < 0.0000001, break out of the loop.\n",
    "* The final value appended to the list is the approximate square root.\n",
    "\n",
    "\n",
    "From research some programs stipulate that the equation is iterated a certain number of times. I decided against this approach as if the user entered a very large number it would require a large number of iterations and it would therefore be difficult to define the range. "
   ]
  },
  {
   "cell_type": "code",
   "execution_count": null,
   "metadata": {},
   "outputs": [],
   "source": [
    "# Ask the user to input a number whose square root we want to calculate.\n",
    "a = float(input(\"Please enter a number: \"))\n",
    "\n",
    "# Define a square root function.\n",
    "def square_root():\n",
    "    '''This function will calculate approximate square roots using Newton's equation.'''\n",
    "    # Generate an empty list\n",
    "    estimates = []\n",
    "\n",
    "    # The first estimate of the square root\n",
    "    approximation = a/2\n",
    "\n",
    "    # Append it to the estimates list\n",
    "    estimates.append(approximation)\n",
    "\n",
    "    # A for loop to iterate through the equation.\n",
    "    for estimate in estimates:\n",
    "        # Get a new estimate using Newton's equation. x<sub>n</sub> = estimates[-1].\n",
    "        estimate = 0.5 * (estimates[-1] + a/(estimates[-1]))\n",
    "\n",
    "        # Append it to the estimates list\n",
    "        estimates.append(estimate)\n",
    "\n",
    "        # When the absolute value between the last two items in the list is < 0.00000001, break out of the loop\n",
    "        if abs(estimates[-2] -estimates[-1]) < 0.00000001:\n",
    "            break\n",
    "        \n",
    "    # The estimate for the square root is the last value in the list.\n",
    "    return round(estimates[-1], 1)\n",
    "\n",
    "# Output\n",
    "# Check that the number entered is a positive number.\n",
    "if a <= 0:\n",
    "    # Print error message if number is not positive. \n",
    "    print(f'Error: The number entered must be a posive number. You entered {a}.')\n",
    "else:\n",
    "    # Print the square root of the number entered.\n",
    "    print(f\"The square root of {a} is approx. {square_root()}\")"
   ]
  },
  {
   "cell_type": "markdown",
   "metadata": {},
   "source": [
    "### References:\n",
    "\n",
    "Explanation of the python square root function from [realpython.com](https://realpython.com/python-square-root-function/)\n",
    "\n",
    "Youtube video: [Dubious insights, Worlds Fastest Square Root: Newton's Method](https://www.youtube.com/watch?v=FpOEx6zFf1o)\n",
    "\n",
    "[Square roots via Newton's method](https://math.mit.edu/~stevenj/18.335/newton-sqrt.pdf)\n",
    "\n",
    "[Writing mathematical formulae in markdown](https://towardsdatascience.com/write-markdown-latex-in-the-jupyter-notebook-10985edb91fd)\n",
    "\n",
    "[Python round() Function](https://www.w3schools.com/python/ref_func_round.asp)\n",
    "\n",
    "A much neater, concise method of using Newton's equation to calculate square roots than what I did. [python square root](https://www.kodeclik.com/python-square-root/). Why didn't I think of this?!"
   ]
  },
  {
   "cell_type": "markdown",
   "metadata": {},
   "source": [
    "***\n",
    "# End"
   ]
  }
 ],
 "metadata": {
  "kernelspec": {
   "display_name": "base",
   "language": "python",
   "name": "python3"
  },
  "language_info": {
   "codemirror_mode": {
    "name": "ipython",
    "version": 3
   },
   "file_extension": ".py",
   "mimetype": "text/x-python",
   "name": "python",
   "nbconvert_exporter": "python",
   "pygments_lexer": "ipython3",
   "version": "3.11.5"
  }
 },
 "nbformat": 4,
 "nbformat_minor": 2
}
