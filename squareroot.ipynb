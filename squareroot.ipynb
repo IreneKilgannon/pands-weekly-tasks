{
 "cells": [
  {
   "cell_type": "markdown",
   "metadata": {},
   "source": [
    "### Calculating Square Roots using the Newton Method"
   ]
  },
  {
   "cell_type": "markdown",
   "metadata": {},
   "source": [
    "## What is a square root?\n",
    "\n",
    "A positive number, n when multiplied by itself is said to be squared. \n",
    "\n",
    "$$ x^2 = n $$\n",
    "\n",
    "The inverse of a squared number is its square root. \n",
    "\n",
    "$$ x = \\sqrt{n}$$\n",
    "\n",
    "\n",
    "\n",
    "In python, the square root of a number can be calculated in two different ways. \n",
    "\n",
    "The first of these is simply the number raised to the power of 0.5. The second method uses the built in math.sqrt() method in the math module. sqrt() can calculate the square root of both integers and floating point numbers. "
   ]
  },
  {
   "cell_type": "code",
   "execution_count": 10,
   "metadata": {},
   "outputs": [
    {
     "name": "stdout",
     "output_type": "stream",
     "text": [
      "3.0\n"
     ]
    }
   ],
   "source": [
    "#Number raised to the power of 0.5. \n",
    " \n",
    "print(9 ** 0.5)"
   ]
  },
  {
   "cell_type": "code",
   "execution_count": 11,
   "metadata": {},
   "outputs": [
    {
     "name": "stdout",
     "output_type": "stream",
     "text": [
      "3.0\n"
     ]
    }
   ],
   "source": [
    "# Calculate the square root of a number using the math.sqrt() method\n",
    "\n",
    "import math\n",
    "\n",
    "# Input the required number as an argument in the sqrt()\n",
    "\n",
    "print(math.sqrt(9))\n",
    "\n",
    "# The answer will be returned as a floating point number.\n"
   ]
  },
  {
   "cell_type": "markdown",
   "metadata": {},
   "source": [
    "## The Newton method for estimating square roots.\n",
    "\n",
    "This weeks weekly task is to calculate the approximate square root of a number by NOT using any of the built in methods in python. There are a number of ways to do this one of which is uses the Newton equation. The Newton equation is derived from the Newton-Raphson equation. \n",
    "\n",
    "\n",
    "\n",
    "\n",
    "Newton- Raphson Equation\n",
    "\n",
    "$$x_{n+1} = x_{n} - \\frac{f(x_{n})}{f'(x_{n})}$$\n",
    "\n",
    "The Newton -Raphson equation uses the mathematical equation of a line to calculate the value for the square root.  For e\n",
    "\n",
    "\n",
    "Newton's equation to calculate the square root:\n",
    "$$x_{n+1} = \\frac{1}{2}(x_{n} + \\frac{a}{x_{n}})$$\n",
    "\n",
    "This equation is a fast way of calculating approximate square roots. The first step is to guess an approximate value for the square root and then to iterate through the equation. Each time we iterate through the equation we will get closer to the result to the square root. This \n",
    "\n",
    "The easiest way to explain is probably to work through an example. Calculate square root of 5. Guess of 2.5, xn\n",
    "\n",
    "\n",
    "|  Iteration   |  Syntax     | Calculation   |Result|\n",
    "|------|-------------|------------------|----------|\n",
    "|1st |    $$x_{1}$$         |   $$\\frac{1}{2}(2.5 + \\frac{5}{2.5})$$  |2.25|\n",
    "|2nd |    $$x_{1}$$         |   $$\\frac{1}{2}(2.25 + \\frac{5}{2.25})$$  |2.2361111111|\n",
    "|3rd |    $$x_{1}$$         |   $$\\frac{1}{2}(2.23611111115 + \\frac{5}{2.2361111111})$$  |2.2360679778|\n",
    "$$x_{1} = \\frac{1}{2}(2.5 + \\frac{5}{2.5})$$\n",
    "$$x_{1} = 2.25$$\n",
    "\n",
    "$$x_{2} = \\frac{1}{2}(2.25 + \\frac{5}{2.25})$$\n",
    "$$x_{2} = 2.2361111111$$\n",
    "\n",
    "$$x_{3} = \\frac{1}{2}(2.236 + \\frac{5}{2.2361})$$\n",
    "$$x_{3} = 2.2360679778$$ "
   ]
  },
  {
   "cell_type": "markdown",
   "metadata": {},
   "source": [
    "### Rough draft of the program.\n",
    "\n",
    "1. Input: Please enter a positive number.\n",
    "2. Need to make a function. \n",
    "3. The function will repeat the iterations until the differences between the results are < 0.0000001.\n",
    "4. Output: \"The square root of {square_root} is approx {}"
   ]
  },
  {
   "cell_type": "markdown",
   "metadata": {},
   "source": [
    "### Defining the function\n",
    "\n",
    "* Generate an empty list called estimates. \n",
    "* The first item appended to the list is an initial guess, approximation, which is the input/2.\n",
    "* For each item in the list, the newton equation is carried out and the result appended to the list.\n",
    "* When the difference between the last two items in the list is less than < 0.0000001, break out of the loop.\n",
    "* The final value appended to the list is the approximate square root.\n",
    "\n",
    "\n",
    "\n",
    "From research some programs stipulate that the equation is iterated a certain number of times. "
   ]
  },
  {
   "cell_type": "code",
   "execution_count": 14,
   "metadata": {},
   "outputs": [
    {
     "name": "stdout",
     "output_type": "stream",
     "text": [
      "The square root of 25.0 is 5.0\n"
     ]
    }
   ],
   "source": [
    "\n",
    "# Input \n",
    "x = float(input(\"Please enter a number: \"))\n",
    "\n",
    "\n",
    "def square_root():\n",
    "    # Generate an empty list\n",
    "    estimates = []\n",
    "\n",
    "    # The first estimate of the square root\n",
    "    approximation = x/2\n",
    "\n",
    "    # Append it to the list\n",
    "    estimates.append(approximation)\n",
    "    for estimate in estimates:\n",
    "\n",
    "        # Get a new estimate using the last value in the estimates list.\n",
    "        estimate = 0.5 * (estimates[-1] + x/(estimates[-1]))\n",
    "\n",
    "        # Append it to the list\n",
    "        estimates.append(estimate)\n",
    "\n",
    "        # When the absolute value between the last two items in the list is < 0.0000001, break out of the loop\n",
    "        if abs(estimates[-2] -estimates[-1]) < 0.0000001:\n",
    "            break\n",
    "        \n",
    "    # The estimate for the square root is the last value in the list\n",
    "    return estimates[-1]\n",
    "\n",
    "# Output\n",
    "print(f\"The square root of {x} is {square_root()}\")"
   ]
  },
  {
   "cell_type": "code",
   "execution_count": null,
   "metadata": {},
   "outputs": [],
   "source": [
    "# https://www.kodeclik.com/python-square-root/"
   ]
  },
  {
   "cell_type": "markdown",
   "metadata": {},
   "source": []
  },
  {
   "cell_type": "markdown",
   "metadata": {},
   "source": [
    "### References:\n",
    "\n",
    "[Explanation of the python square root function from realpython.com](https://realpython.com/python-square-root-function/)\n",
    "\n",
    "[Dubious insights, Worlds Fastest Square Root: Newton's Method](https://www.youtube.com/watch?v=FpOEx6zFf1o)\n",
    "\n",
    "[Square roots via Newton's method](https://math.mit.edu/~stevenj/18.335/newton-sqrt.pdf)\n",
    "\n",
    "[Writing mathematical formulae in markdown](https://towardsdatascience.com/write-markdown-latex-in-the-jupyter-notebook-10985edb91fd)\n"
   ]
  }
 ],
 "metadata": {
  "kernelspec": {
   "display_name": "base",
   "language": "python",
   "name": "python3"
  },
  "language_info": {
   "codemirror_mode": {
    "name": "ipython",
    "version": 3
   },
   "file_extension": ".py",
   "mimetype": "text/x-python",
   "name": "python",
   "nbconvert_exporter": "python",
   "pygments_lexer": "ipython3",
   "version": "3.11.5"
  }
 },
 "nbformat": 4,
 "nbformat_minor": 2
}
