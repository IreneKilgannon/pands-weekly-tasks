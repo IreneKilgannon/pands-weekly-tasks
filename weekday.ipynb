{
 "cells": [
  {
   "cell_type": "markdown",
   "metadata": {},
   "source": [
    "# Weekday.py\n",
    "***\n",
    "\n",
    "Write a program that outputs whether or not today is a weekday.\n",
    "\n",
    "If it is a weekday output is \"Yes, unfortunately today is a weekday\".\n",
    "\n",
    "If it is the weekend output \"It is the weekend, yah!\"\n",
    "\n",
    "Author: Irene Kilgannon"
   ]
  },
  {
   "cell_type": "markdown",
   "metadata": {},
   "source": [
    "## DateTime module\n",
    "\n",
    "The [DateTime module](https://docs.python.org/3/library/datetime.html) is used for handling dates and times in Python.\n",
    "\n",
    "As we don't need time for this program, only the date class will be imported. The attributes for date are [year, month and day.](https://www.geeksforgeeks.org/python-datetime-module/)"
   ]
  },
  {
   "cell_type": "code",
   "execution_count": 1,
   "metadata": {},
   "outputs": [],
   "source": [
    "# Import the datetime module\n",
    "from datetime import date"
   ]
  },
  {
   "cell_type": "code",
   "execution_count": 2,
   "metadata": {},
   "outputs": [
    {
     "name": "stdout",
     "output_type": "stream",
     "text": [
      "Yes, unfortunately today is a weekday.\n"
     ]
    }
   ],
   "source": [
    "# .today() gets today's date. From that the .weekday() module returns an integer for the day of the week.\n",
    "today = date.today().weekday()\n",
    "\n",
    "# Weekday() returns an integer with the week starting with Monday equal to 0.\n",
    "# Need an if statement to print the required output. \n",
    "if today < 5:\n",
    "    print(\"Yes, unfortunately today is a weekday.\")\n",
    "else:\n",
    "    print(\"It is the weekend, yah!\")"
   ]
  },
  {
   "cell_type": "markdown",
   "metadata": {},
   "source": [
    "__Alternative method__\n",
    "\n",
    "An alternative method is to use  the [isocalendar() function](https://www.geeksforgeeks.org/isocalendar-function-of-datetime-date-class-in-python/) which returns a tuple containing the year, week number and weekday in ISO format. \n",
    "\n",
    "As the weekday number is at index 2 of the tuple, we use bracket notation to access the weekday part of isocalendar().\n",
    "\n",
    "Notice that the week starts on Monday, with Monday equal to 1 and Sunday equal to 7. This is different to the weekday() function where the week starts with Monday equal to 0."
   ]
  },
  {
   "cell_type": "code",
   "execution_count": 3,
   "metadata": {},
   "outputs": [
    {
     "name": "stdout",
     "output_type": "stream",
     "text": [
      "Yes, unfortunately today is a weekday.\n"
     ]
    }
   ],
   "source": [
    "# Accessing the day part of isocalendar\n",
    "week_day = date.today().isocalendar()[2]\n",
    "\n",
    "# A loop to print the required output depending on the day of the week\n",
    "if week_day == 6 or week_day == 7:\n",
    "    print(\"It is the weekend, yah!\")\n",
    "else:\n",
    "    print(\"Yes, unfortunately today is a weekday.\")\n"
   ]
  },
  {
   "cell_type": "markdown",
   "metadata": {},
   "source": [
    "## Additional References:\n",
    "\n",
    "[Python DateTime](https://realpython.com/python-datetime/)\n",
    "\n",
    "[DateTime Variables in Python and Pandas](https://www.analyticsvidhya.com/blog/2020/05/datetime-variables-python-pandas/)\n",
    "\n",
    "[date.today()](https://ioflood.com/blog/python-get-current-date/)\n",
    "\n",
    "[Python DateTime: A simple guide with 39 Code Examples](https://www.dataquest.io/blog/python-datetime/)\n"
   ]
  },
  {
   "cell_type": "markdown",
   "metadata": {},
   "source": [
    "*** \n",
    "## END"
   ]
  }
 ],
 "metadata": {
  "kernelspec": {
   "display_name": "base",
   "language": "python",
   "name": "python3"
  },
  "language_info": {
   "codemirror_mode": {
    "name": "ipython",
    "version": 3
   },
   "file_extension": ".py",
   "mimetype": "text/x-python",
   "name": "python",
   "nbconvert_exporter": "python",
   "pygments_lexer": "ipython3",
   "version": "3.11.5"
  }
 },
 "nbformat": 4,
 "nbformat_minor": 2
}
